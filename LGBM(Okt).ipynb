{
  "nbformat": 4,
  "nbformat_minor": 0,
  "metadata": {
    "accelerator": "GPU",
    "colab": {
      "name": "LGBM(Okt).ipynb",
      "provenance": [],
      "collapsed_sections": [],
      "machine_shape": "hm",
      "mount_file_id": "1v9PosKAcW5pGeC3Ls2N-7HwKUFwtP3LX",
      "authorship_tag": "ABX9TyNw6AU7JTDz3owKntGp82F3",
      "include_colab_link": true
    },
    "kernelspec": {
      "display_name": "Python 3",
      "name": "python3"
    },
    "language_info": {
      "name": "python"
    }
  },
  "cells": [
    {
      "cell_type": "markdown",
      "metadata": {
        "id": "view-in-github",
        "colab_type": "text"
      },
      "source": [
        "<a href=\"https://colab.research.google.com/github/JunSeokCheon/Natural-Language-based-Climate-Technology-Classification/blob/master/LGBM(Okt).ipynb\" target=\"_parent\"><img src=\"https://colab.research.google.com/assets/colab-badge.svg\" alt=\"Open In Colab\"/></a>"
      ]
    },
    {
      "cell_type": "code",
      "metadata": {
        "id": "O9m_1AZHeCvd"
      },
      "source": [
        "pip install konlpy"
      ],
      "execution_count": null,
      "outputs": []
    },
    {
      "cell_type": "code",
      "metadata": {
        "id": "bfeEDuVNH7xF"
      },
      "source": [
        "pip install lightgbm"
      ],
      "execution_count": null,
      "outputs": []
    },
    {
      "cell_type": "code",
      "metadata": {
        "colab": {
          "base_uri": "https://localhost:8080/"
        },
        "id": "Q17KiWH5Hc2H",
        "outputId": "1e7c1588-715f-438e-cf3f-7e8f08c76feb"
      },
      "source": [
        "from google.colab import drive\n",
        "drive.mount('/content/drive')"
      ],
      "execution_count": null,
      "outputs": [
        {
          "name": "stdout",
          "output_type": "stream",
          "text": [
            "Mounted at /content/drive\n"
          ]
        }
      ]
    },
    {
      "cell_type": "code",
      "metadata": {
        "id": "hkxPIXQzd3XV"
      },
      "source": [
        "import pandas as pd\n",
        "import numpy as np\n",
        "import matplotlib.pyplot as plt\n",
        "import re\n",
        "import json\n",
        "import os\n",
        "import tqdm\n",
        "\n",
        "from konlpy.tag import Okt\n",
        "\n",
        "import sklearn\n",
        "from sklearn.preprocessing import LabelEncoder\n",
        "from sklearn.model_selection import train_test_split\n",
        "from sklearn.metrics import log_loss, accuracy_score,f1_score\n",
        "from sklearn.feature_extraction.text import CountVectorizer\n",
        "from sklearn.ensemble import RandomForestClassifier"
      ],
      "execution_count": null,
      "outputs": []
    },
    {
      "cell_type": "code",
      "metadata": {
        "id": "sTUF96lUeBih"
      },
      "source": [
        "cd /content/drive/MyDrive/daicon"
      ],
      "execution_count": null,
      "outputs": []
    },
    {
      "cell_type": "code",
      "metadata": {
        "id": "ifQzUi122_8F"
      },
      "source": [
        "ls"
      ],
      "execution_count": null,
      "outputs": []
    },
    {
      "cell_type": "code",
      "metadata": {
        "id": "lLl6IAx3eSoA"
      },
      "source": [
        "train=pd.read_csv('preprocessing_train.csv')\n",
        "test=pd.read_csv('preprocessing_test.csv')\n",
        "sample_submission=pd.read_csv('sample_submission.csv')"
      ],
      "execution_count": null,
      "outputs": []
    },
    {
      "cell_type": "code",
      "metadata": {
        "id": "YBvifGRb3K0y"
      },
      "source": [
        "train.shape"
      ],
      "execution_count": null,
      "outputs": []
    },
    {
      "cell_type": "code",
      "metadata": {
        "id": "jLN5_Rga3UIx"
      },
      "source": [
        "train.info()"
      ],
      "execution_count": null,
      "outputs": []
    },
    {
      "cell_type": "code",
      "metadata": {
        "id": "FQ_o9E96ecHn"
      },
      "source": [
        "train.head(20)"
      ],
      "execution_count": null,
      "outputs": []
    },
    {
      "cell_type": "code",
      "metadata": {
        "id": "dq4zksUvezF_"
      },
      "source": [
        "test.head(2)"
      ],
      "execution_count": null,
      "outputs": []
    },
    {
      "cell_type": "code",
      "metadata": {
        "id": "kQs5zoIrfPJx"
      },
      "source": [
        "sample_submission.head(6)"
      ],
      "execution_count": null,
      "outputs": []
    },
    {
      "cell_type": "code",
      "metadata": {
        "id": "ZHAs_Ij6fS_v"
      },
      "source": [
        "#데이터 구조 파악\n",
        "print(train.shape)\n",
        "print(test.shape)\n",
        "print(sample_submission.shape)"
      ],
      "execution_count": null,
      "outputs": []
    },
    {
      "cell_type": "code",
      "metadata": {
        "id": "i1dgfliofgeY"
      },
      "source": [
        "#심각한 불균형 데이터임을 알 수 있습니다.\n",
        "train.label.value_counts(sort=False)/len(train)"
      ],
      "execution_count": null,
      "outputs": []
    },
    {
      "cell_type": "code",
      "metadata": {
        "id": "1pyLXmND9sEH"
      },
      "source": [
        "# train = train[['과제명', '요약문_한글키워드', '요약문_영문키워드','label']]\n",
        "# test = test[['과제명', '요약문_한글키워드', '요약문_영문키워드']]\n",
        "# train[['과제명', '요약문_한글키워드', '요약문_영문키워드', 'label']].fillna('', inplace=True)\n",
        "# test[['과제명', '요약문_한글키워드', '요약문_영문키워드']].fillna('', inplace=True)"
      ],
      "execution_count": null,
      "outputs": []
    },
    {
      "cell_type": "code",
      "metadata": {
        "id": "mDN--2T5vZxi"
      },
      "source": [
        "train = train[['요약문_영문키워드', 'label']]\n",
        "test = test[['요약문_영문키워드']]\n",
        "train[['요약문_영문키워드', 'label']].fillna('', inplace=True)\n",
        "test[['요약문_영문키워드']].fillna('', inplace=True)"
      ],
      "execution_count": null,
      "outputs": []
    },
    {
      "cell_type": "code",
      "metadata": {
        "id": "cRBii6vL_mPy"
      },
      "source": [
        "train.head(2)"
      ],
      "execution_count": null,
      "outputs": []
    },
    {
      "cell_type": "code",
      "metadata": {
        "id": "R6wWBm-ozv65"
      },
      "source": [
        "train['data'] = train['요약문_영문키워드']\n",
        "test['data'] = test['요약문_영문키워드'] "
      ],
      "execution_count": null,
      "outputs": []
    },
    {
      "cell_type": "code",
      "metadata": {
        "id": "tbsU5WfygeUL"
      },
      "source": [
        "train.head(2)"
      ],
      "execution_count": null,
      "outputs": []
    },
    {
      "cell_type": "code",
      "metadata": {
        "id": "108S5Sr723-H"
      },
      "source": [
        "#1. re.sub 한글 및 공백을 제외한 문자 제거\n",
        "#2. okt 객체를 활용해 형태소 단위로 나눔\n",
        "#3. remove_stopwords로 불용어 제거 \n",
        "def preprocessing(text, okt, remove_stopwords=False):\n",
        "    # text=re.sub(\"[^가-힣ㄱ-ㅎㅏ-ㅣ]\",\"\", text)\n",
        "    word_text=okt.morphs(text, stem=True)\n",
        "    if remove_stopwords:\n",
        "        word_review=[token for token in word_text if not len(token)==1]\n",
        "    return word_review"
      ],
      "execution_count": null,
      "outputs": []
    },
    {
      "cell_type": "code",
      "metadata": {
        "id": "lKdLNkq07qar"
      },
      "source": [
        "# stop_words=['은','는','이','가', '하','아','것','들','의','있','되','수','보','주','등','한']\n",
        "okt=Okt()\n",
        "clean_train_text=[]\n",
        "clean_test_text=[]"
      ],
      "execution_count": null,
      "outputs": []
    },
    {
      "cell_type": "code",
      "metadata": {
        "id": "dmkVkaTA7rVg"
      },
      "source": [
        "#시간이 많이 걸립니다.\n",
        "for text in tqdm.tqdm(train['data']):\n",
        "    try:\n",
        "        clean_train_text.append(preprocessing(text, okt, remove_stopwords=True))\n",
        "    except:\n",
        "        clean_train_text.append([])"
      ],
      "execution_count": null,
      "outputs": []
    },
    {
      "cell_type": "code",
      "metadata": {
        "id": "Xuq9BP5g800L"
      },
      "source": [
        "clean_train_text[5]"
      ],
      "execution_count": null,
      "outputs": []
    },
    {
      "cell_type": "code",
      "metadata": {
        "id": "8FTPkxKT7rX4"
      },
      "source": [
        "for text in tqdm.tqdm(test['data']):\n",
        "    if type(text) == str:\n",
        "        clean_test_text.append(preprocessing(text, okt, remove_stopwords=True))\n",
        "    else:\n",
        "        clean_test_text.append([])"
      ],
      "execution_count": null,
      "outputs": []
    },
    {
      "cell_type": "code",
      "metadata": {
        "id": "Xk7w-4KJ9POR"
      },
      "source": [
        "len(clean_train_text)"
      ],
      "execution_count": null,
      "outputs": []
    },
    {
      "cell_type": "code",
      "metadata": {
        "id": "5ghouOLfH6WA"
      },
      "source": [
        "#추후 재사용 가능하도록 npy로 전환\n",
        "DATA_IN_PATH='./data_in/'\n",
        "TRAIN_INPUT_DATA = 'train_input_ENkey.npy'\n",
        "TEST_INPUT_DATA = 'test_input_ENkey.npy'\n",
        "\n",
        "import os\n",
        "if not os.path.exists(DATA_IN_PATH):\n",
        "    os.makedirs(DATA_IN_PATH)\n",
        "    \n",
        "np.save(open(DATA_IN_PATH+TRAIN_INPUT_DATA, 'wb'), clean_train_text)\n",
        "np.save(open(DATA_IN_PATH+TEST_INPUT_DATA, 'wb'), clean_test_text)"
      ],
      "execution_count": null,
      "outputs": []
    },
    {
      "cell_type": "code",
      "metadata": {
        "id": "8S_84QE19SQG"
      },
      "source": [
        "len(clean_test_text)"
      ],
      "execution_count": null,
      "outputs": []
    },
    {
      "cell_type": "code",
      "metadata": {
        "id": "yP9BO3ahwgKj"
      },
      "source": [
        "from sklearn.feature_extraction.text import CountVectorizer\n",
        "\n",
        "#tokenizer 인자에는 list를 받아서 그대로 내보내는 함수를 넣어줍니다. 또한 소문자화를 하지 않도록 설정해야 에러가 나지 않습니다.\n",
        "vectorizer = CountVectorizer(tokenizer = lambda x: x, lowercase=False)\n",
        "train_features=vectorizer.fit_transform(clean_train_text)\n",
        "test_features=vectorizer.transform(clean_test_text)\n",
        "#test데이터에 fit_transform을 할 경우 data leakage에 해당합니다\n",
        "#https://deepinsight.tistory.com/165"
      ],
      "execution_count": null,
      "outputs": []
    },
    {
      "cell_type": "code",
      "metadata": {
        "id": "_KzRBIXPwiiz"
      },
      "source": [
        "train_features"
      ],
      "execution_count": null,
      "outputs": []
    },
    {
      "cell_type": "code",
      "metadata": {
        "id": "q8SyIn7KwkeL"
      },
      "source": [
        "test_features"
      ],
      "execution_count": null,
      "outputs": []
    },
    {
      "cell_type": "code",
      "metadata": {
        "id": "OUAaYu0B6Snp"
      },
      "source": [
        "import lightgbm as lgb\n",
        "from sklearn import metrics as ms"
      ],
      "execution_count": null,
      "outputs": []
    },
    {
      "cell_type": "code",
      "metadata": {
        "id": "4oUv9KK0A4mA"
      },
      "source": [
        "pip install optuna"
      ],
      "execution_count": null,
      "outputs": []
    },
    {
      "cell_type": "code",
      "metadata": {
        "id": "HF2s3qUtA_9n"
      },
      "source": [
        "import optuna"
      ],
      "execution_count": null,
      "outputs": []
    },
    {
      "cell_type": "code",
      "metadata": {
        "id": "16tVyNzV5l85"
      },
      "source": [
        "def objective(trial):\n",
        "    TEST_SIZE=0.2\n",
        "    RANDOM_SEED=42\n",
        "\n",
        "    train_x, eval_x, train_y, eval_y=train_test_split(train_features, train['label'], test_size=TEST_SIZE, random_state=RANDOM_SEED)\n",
        "\n",
        "    train_x = train_x.astype('float32')\n",
        "    eval_x = eval_x.astype('float32')\n",
        "    train_y = train_y.astype('float32')\n",
        "    eval_y = eval_y.astype('float32')\n",
        "    \n",
        "    train_ds = lgb.Dataset(train_x, label = train_y)\n",
        "    \n",
        " \n",
        "    param = {\n",
        "        'objective': 'multiclass',\n",
        "        'metric': 'multi_logloss',\n",
        "        'num_classes': '46',\n",
        "        'lambda_l1': trial.suggest_loguniform('lambda_l1', 1e-8, 10.0),\n",
        "        'lambda_l2': trial.suggest_loguniform('lambda_l2', 1e-8, 10.0),\n",
        "        'num_leaves': trial.suggest_int('num_leaves', 2, 256),\n",
        "        'feature_fraction': trial.suggest_uniform('feature_fraction', 0.4, 1.0),\n",
        "        'bagging_fraction': trial.suggest_uniform('bagging_fraction', 0.4, 1.0),\n",
        "        'bagging_freq': trial.suggest_int('bagging_freq', 1, 7),\n",
        "        'min_child_samples': trial.suggest_int('min_child_samples', 5, 100),\n",
        "    }\n",
        " \n",
        "    gbm = lgb.train(param, train_ds)\n",
        "    y_pred = gbm.predict(eval_x).argmax(axis=1)\n",
        "    accuracy = ms.accuracy_score(y_pred,eval_y)\n",
        "    return accuracy\n",
        " \n",
        "study = optuna.create_study(direction='maximize')\n",
        "study.optimize(objective, n_trials=30)\n",
        " \n",
        "print('Number of finished trials:', len(study.trials))\n",
        "print('Best trial:', study.best_trial.params)"
      ],
      "execution_count": null,
      "outputs": []
    },
    {
      "cell_type": "code",
      "metadata": {
        "id": "veCdFkonwo0N"
      },
      "source": [
        "#훈련 데이터 셋과 검증 데이터 셋으로 분리\n",
        "TEST_SIZE=0.2\n",
        "RANDOM_SEED=42\n",
        "\n",
        "train_x, eval_x, train_y, eval_y=train_test_split(train_features, train['label'], test_size=TEST_SIZE, random_state=RANDOM_SEED)"
      ],
      "execution_count": null,
      "outputs": []
    },
    {
      "cell_type": "code",
      "metadata": {
        "id": "rJ4YdGzGgEM1"
      },
      "source": [
        "len(eval_y)"
      ],
      "execution_count": null,
      "outputs": []
    },
    {
      "cell_type": "code",
      "metadata": {
        "id": "tPpCKZ-CLaTo"
      },
      "source": [
        "train_x = train_x.astype('float32')\n",
        "eval_x = eval_x.astype('float32')\n",
        "train_y = train_y.astype('float32')\n",
        "eval_y = eval_y.astype('float32')"
      ],
      "execution_count": null,
      "outputs": []
    },
    {
      "cell_type": "code",
      "metadata": {
        "id": "jkjSbeJdwrWD"
      },
      "source": [
        "import lightgbm as lgb\n",
        "\n",
        "train_ds = lgb.Dataset(train_x, label = train_y)\n",
        "test_ds = lgb.Dataset(eval_x, label = eval_y)"
      ],
      "execution_count": null,
      "outputs": []
    },
    {
      "cell_type": "code",
      "metadata": {
        "id": "H3C4c3x0Ij6D"
      },
      "source": [
        "params = {\n",
        "    'learning_rate' : 0.01,\n",
        "    'max_depth' : 16,\n",
        "    'boosting' : 'gbdt',\n",
        "    'num_classes': '46',\n",
        "    'objective' : 'multiclass',\n",
        "    'is_training_metric' : True,\n",
        "    'lambda_l1': 3.6389990001909315e-05, 'lambda_l2': 0.10815227244766439, 'num_leaves': 199, 'feature_fraction': 0.8192426309847745, 'bagging_fraction': 0.9050477494813629, 'bagging_freq': 1, 'min_child_samples': 5\n",
        "}"
      ],
      "execution_count": null,
      "outputs": []
    },
    {
      "cell_type": "code",
      "metadata": {
        "id": "-5m7w30vdg06"
      },
      "source": [
        "import tensorflow as tf"
      ],
      "execution_count": null,
      "outputs": []
    },
    {
      "cell_type": "code",
      "metadata": {
        "colab": {
          "background_save": true,
          "base_uri": "https://localhost:8080/"
        },
        "id": "WZe6mii0JZ5u",
        "outputId": "82c1b376-0478-435b-b381-918274105204"
      },
      "source": [
        "with tf.device('/device:GPU:0'):\n",
        "  model = lgb.train(params, train_ds, 1000, test_ds, verbose_eval=100, early_stopping_rounds=100)"
      ],
      "execution_count": null,
      "outputs": [
        {
          "name": "stdout",
          "output_type": "stream",
          "text": [
            "Training until validation scores don't improve for 100 rounds.\n",
            "[100]\tvalid_0's multi_logloss: 0.691473\n",
            "[200]\tvalid_0's multi_logloss: 0.617426\n",
            "[300]\tvalid_0's multi_logloss: 0.57758\n",
            "[400]\tvalid_0's multi_logloss: 0.552808\n",
            "[500]\tvalid_0's multi_logloss: 0.535492\n",
            "[600]\tvalid_0's multi_logloss: 0.522389\n",
            "[700]\tvalid_0's multi_logloss: 0.512284\n",
            "[800]\tvalid_0's multi_logloss: 0.503911\n",
            "[900]\tvalid_0's multi_logloss: 0.496876\n",
            "[1000]\tvalid_0's multi_logloss: 0.490848\n",
            "Did not meet early stopping. Best iteration is:\n",
            "[1000]\tvalid_0's multi_logloss: 0.490848\n"
          ]
        }
      ]
    },
    {
      "cell_type": "code",
      "metadata": {
        "colab": {
          "background_save": true
        },
        "id": "N_9QCvbYU-Pr"
      },
      "source": [
        "y_pred = model.predict(eval_x).argmax(axis=1)"
      ],
      "execution_count": null,
      "outputs": []
    },
    {
      "cell_type": "code",
      "metadata": {
        "colab": {
          "background_save": true
        },
        "id": "Xbqr-d7cel8d"
      },
      "source": [
        "y_pred"
      ],
      "execution_count": null,
      "outputs": []
    },
    {
      "cell_type": "code",
      "metadata": {
        "colab": {
          "background_save": true
        },
        "id": "-eVqnYGJdznC"
      },
      "source": [
        "from sklearn import metrics as ms\n",
        "ms.accuracy_score(y_pred,eval_y)"
      ],
      "execution_count": null,
      "outputs": []
    },
    {
      "cell_type": "code",
      "metadata": {
        "colab": {
          "background_save": true
        },
        "id": "OSbc8x0pfOSD"
      },
      "source": [
        "len(y_pred)"
      ],
      "execution_count": null,
      "outputs": []
    },
    {
      "cell_type": "code",
      "metadata": {
        "colab": {
          "background_save": true
        },
        "id": "2cGJ8BICgAzM"
      },
      "source": [
        "len(eval_y)"
      ],
      "execution_count": null,
      "outputs": []
    },
    {
      "cell_type": "code",
      "metadata": {
        "colab": {
          "background_save": true
        },
        "id": "Zfkw_VF0HEQV"
      },
      "source": [
        "sample_submission['label'] = model.predict(test_features.astype(\"float32\")).argmax(axis=1)"
      ],
      "execution_count": null,
      "outputs": []
    },
    {
      "cell_type": "code",
      "metadata": {
        "colab": {
          "background_save": true
        },
        "id": "59rc1ZW9xDhc",
        "outputId": "e354a57a-6d79-41fd-9e08-a8de532e7784"
      },
      "source": [
        "sample_submission"
      ],
      "execution_count": null,
      "outputs": [
        {
          "data": {
            "text/html": [
              "<div>\n",
              "<style scoped>\n",
              "    .dataframe tbody tr th:only-of-type {\n",
              "        vertical-align: middle;\n",
              "    }\n",
              "\n",
              "    .dataframe tbody tr th {\n",
              "        vertical-align: top;\n",
              "    }\n",
              "\n",
              "    .dataframe thead th {\n",
              "        text-align: right;\n",
              "    }\n",
              "</style>\n",
              "<table border=\"1\" class=\"dataframe\">\n",
              "  <thead>\n",
              "    <tr style=\"text-align: right;\">\n",
              "      <th></th>\n",
              "      <th>index</th>\n",
              "      <th>label</th>\n",
              "    </tr>\n",
              "  </thead>\n",
              "  <tbody>\n",
              "    <tr>\n",
              "      <th>0</th>\n",
              "      <td>174304</td>\n",
              "      <td>0</td>\n",
              "    </tr>\n",
              "    <tr>\n",
              "      <th>1</th>\n",
              "      <td>174305</td>\n",
              "      <td>0</td>\n",
              "    </tr>\n",
              "    <tr>\n",
              "      <th>2</th>\n",
              "      <td>174306</td>\n",
              "      <td>0</td>\n",
              "    </tr>\n",
              "    <tr>\n",
              "      <th>3</th>\n",
              "      <td>174307</td>\n",
              "      <td>0</td>\n",
              "    </tr>\n",
              "    <tr>\n",
              "      <th>4</th>\n",
              "      <td>174308</td>\n",
              "      <td>0</td>\n",
              "    </tr>\n",
              "    <tr>\n",
              "      <th>...</th>\n",
              "      <td>...</td>\n",
              "      <td>...</td>\n",
              "    </tr>\n",
              "    <tr>\n",
              "      <th>43571</th>\n",
              "      <td>217875</td>\n",
              "      <td>0</td>\n",
              "    </tr>\n",
              "    <tr>\n",
              "      <th>43572</th>\n",
              "      <td>217876</td>\n",
              "      <td>0</td>\n",
              "    </tr>\n",
              "    <tr>\n",
              "      <th>43573</th>\n",
              "      <td>217877</td>\n",
              "      <td>0</td>\n",
              "    </tr>\n",
              "    <tr>\n",
              "      <th>43574</th>\n",
              "      <td>217878</td>\n",
              "      <td>0</td>\n",
              "    </tr>\n",
              "    <tr>\n",
              "      <th>43575</th>\n",
              "      <td>217879</td>\n",
              "      <td>0</td>\n",
              "    </tr>\n",
              "  </tbody>\n",
              "</table>\n",
              "<p>43576 rows × 2 columns</p>\n",
              "</div>"
            ],
            "text/plain": [
              "        index  label\n",
              "0      174304      0\n",
              "1      174305      0\n",
              "2      174306      0\n",
              "3      174307      0\n",
              "4      174308      0\n",
              "...       ...    ...\n",
              "43571  217875      0\n",
              "43572  217876      0\n",
              "43573  217877      0\n",
              "43574  217878      0\n",
              "43575  217879      0\n",
              "\n",
              "[43576 rows x 2 columns]"
            ]
          },
          "execution_count": null,
          "metadata": {},
          "output_type": "execute_result"
        }
      ]
    },
    {
      "cell_type": "code",
      "metadata": {
        "colab": {
          "background_save": true
        },
        "id": "5gygza0KxG_c"
      },
      "source": [
        "sample_submission.to_csv('LGBM_baseline_ENkey.csv', index=False)"
      ],
      "execution_count": null,
      "outputs": []
    },
    {
      "cell_type": "code",
      "metadata": {
        "colab": {
          "background_save": true
        },
        "id": "1JjuVdnWQ3nn"
      },
      "source": [
        ""
      ],
      "execution_count": null,
      "outputs": []
    }
  ]
}